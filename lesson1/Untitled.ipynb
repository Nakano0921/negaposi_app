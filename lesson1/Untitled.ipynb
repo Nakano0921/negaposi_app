{
 "cells": [
  {
   "cell_type": "code",
   "execution_count": 10,
   "metadata": {},
   "outputs": [
    {
     "name": "stdout",
     "output_type": "stream",
     "text": [
      "   1から10  11から20  21から30\n",
      "0      1      11      21\n",
      "1      2      12      22\n",
      "2      3      13      23\n",
      "3      4      14      24\n",
      "4      5      15      25\n",
      "5      6      16      26\n",
      "6      7      17      27\n",
      "7      8      18      28\n",
      "8      9      19      29\n",
      "9     10      20      30\n"
     ]
    }
   ],
   "source": [
    "import pandas as pd\n",
    "import numpy as np\n",
    "num1 = [1, 2, 3, 4, 5, 6, 7, 8, 9, 10]\n",
    "num2 = [11, 12, 13, 14, 15, 16, 17, 18, 19, 20]\n",
    "df = pd.DataFrame({'1から10': [num1[0]], '11から20': [num2[0]],})\n",
    "for (n1, n2) in zip(num1[1:], num2[1:]):\n",
    "    df = df.append({'1から10': n1,'11から20': n2}, ignore_index = True)\n",
    "num3 = [21, 22, 23, 24, 25, 26, 27, 28, 29, 30]\n",
    "df['21から30'] = num3\n",
    "print(df)"
   ]
  },
  {
   "cell_type": "code",
   "execution_count": null,
   "metadata": {},
   "outputs": [],
   "source": []
  }
 ],
 "metadata": {
  "kernelspec": {
   "display_name": "Python 3",
   "language": "python",
   "name": "python3"
  },
  "language_info": {
   "codemirror_mode": {
    "name": "ipython",
    "version": 3
   },
   "file_extension": ".py",
   "mimetype": "text/x-python",
   "name": "python",
   "nbconvert_exporter": "python",
   "pygments_lexer": "ipython3",
   "version": "3.9.0"
  }
 },
 "nbformat": 4,
 "nbformat_minor": 4
}
