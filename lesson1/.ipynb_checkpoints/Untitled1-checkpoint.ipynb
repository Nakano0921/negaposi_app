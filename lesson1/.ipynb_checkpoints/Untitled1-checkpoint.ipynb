{
 "cells": [
  {
   "cell_type": "code",
   "execution_count": 5,
   "metadata": {},
   "outputs": [
    {
     "name": "stdout",
     "output_type": "stream",
     "text": [
      "   comment  taste  service\n",
      "0        1      2        3\n",
      "   comment  taste  service\n",
      "0        1      2        3\n",
      "   comment  taste  service\n",
      "0        1      2        3\n"
     ]
    }
   ],
   "source": [
    "import pandas as pd\n",
    "df = pd.DataFrame({'comment':[1],'taste':[2],'service':[3]})\n",
    "print(df)\n",
    "df.append({'comment':4,'taste':5,'service':6},ignore_index=True,)\n",
    "print(df)\n",
    "df.append({'comment':7,'taste':8,'service':9},ignore_index=True,)\n",
    "print(df)\n"
   ]
  },
  {
   "cell_type": "code",
   "execution_count": 12,
   "metadata": {},
   "outputs": [
    {
     "name": "stdout",
     "output_type": "stream",
     "text": [
      "   test\n",
      "0     1\n"
     ]
    },
    {
     "data": {
      "text/html": [
       "<div>\n",
       "<style scoped>\n",
       "    .dataframe tbody tr th:only-of-type {\n",
       "        vertical-align: middle;\n",
       "    }\n",
       "\n",
       "    .dataframe tbody tr th {\n",
       "        vertical-align: top;\n",
       "    }\n",
       "\n",
       "    .dataframe thead th {\n",
       "        text-align: right;\n",
       "    }\n",
       "</style>\n",
       "<table border=\"1\" class=\"dataframe\">\n",
       "  <thead>\n",
       "    <tr style=\"text-align: right;\">\n",
       "      <th></th>\n",
       "      <th>test</th>\n",
       "    </tr>\n",
       "  </thead>\n",
       "  <tbody>\n",
       "    <tr>\n",
       "      <th>0</th>\n",
       "      <td>1</td>\n",
       "    </tr>\n",
       "    <tr>\n",
       "      <th>1</th>\n",
       "      <td>3</td>\n",
       "    </tr>\n",
       "  </tbody>\n",
       "</table>\n",
       "</div>"
      ],
      "text/plain": [
       "   test\n",
       "0     1\n",
       "1     3"
      ]
     },
     "execution_count": 12,
     "metadata": {},
     "output_type": "execute_result"
    }
   ],
   "source": [
    "import pandas as pd\n",
    "l = [1,]\n",
    "df = pd.DataFrame({'test':[l[0]]})\n",
    "print(df)\n",
    "l = [1,3]\n",
    "append_s = pd.Series([l[1]],index=['test'],name= 1)\n",
    "df.append(append_s)"
   ]
  },
  {
   "cell_type": "code",
   "execution_count": 6,
   "metadata": {},
   "outputs": [
    {
     "ename": "SyntaxError",
     "evalue": "invalid syntax (<ipython-input-6-8541cc2a7ef9>, line 7)",
     "output_type": "error",
     "traceback": [
      "\u001b[0;36m  File \u001b[0;32m\"<ipython-input-6-8541cc2a7ef9>\"\u001b[0;36m, line \u001b[0;32m7\u001b[0m\n\u001b[0;31m    for c,t,s in zip(com,tas,ser)\u001b[0m\n\u001b[0m                                 ^\u001b[0m\n\u001b[0;31mSyntaxError\u001b[0m\u001b[0;31m:\u001b[0m invalid syntax\n"
     ]
    }
   ],
   "source": [
    "import pandas as pd\n",
    "com = ['美味しかった', '楽しかった', 'つまらなかった', 'また来たい']\n",
    "tas = [1, 3, 5, 8]\n",
    "ser = [5, 3, 2, 6]\n",
    "n = 1\n",
    "l = 0\n",
    "for c,t,s in zip(com,tas,ser)\n",
    "    df = pd.DataFrame({'comment':[c[l]], 'taste':[t[l]], 'service':[s[l]]}, index=[n])\n",
    "    n += 1\n",
    "    l += 1\n",
    "print(df)"
   ]
  },
  {
   "cell_type": "code",
   "execution_count": null,
   "metadata": {},
   "outputs": [],
   "source": []
  }
 ],
 "metadata": {
  "kernelspec": {
   "display_name": "Python 3",
   "language": "python",
   "name": "python3"
  },
  "language_info": {
   "codemirror_mode": {
    "name": "ipython",
    "version": 3
   },
   "file_extension": ".py",
   "mimetype": "text/x-python",
   "name": "python",
   "nbconvert_exporter": "python",
   "pygments_lexer": "ipython3",
   "version": "3.9.0"
  }
 },
 "nbformat": 4,
 "nbformat_minor": 4
}
